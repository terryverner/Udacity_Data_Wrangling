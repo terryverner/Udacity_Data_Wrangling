{
 "cells": [
  {
   "cell_type": "markdown",
   "metadata": {},
   "source": [
    "# We Rate Dogs Wrangle Report\n",
    "\n",
    "__The following report describes the wrangling efforts related to We Rate Dogs Twitter data. The project allowed end-to-end work from gathering and assessing data, to cleaning and analyzing it.__"
   ]
  },
  {
   "cell_type": "markdown",
   "metadata": {},
   "source": [
    "## Gather\n",
    "\n",
    "The data was sourced from three separate files, each in different formats.\n",
    "\n",
    "1. twitter csv data: `'twitter-archive-enhanced.csv'`  \n",
    "First, this comma-separated values file was provided by David directly in our working environment.\n",
    "2. image predictions tsv file: https://d17h27t6h515a5.cloudfront.net/topher/2017/August/599fd2ad_image-predictions/image-predictions.tsv  \n",
    "Second, tab-separated values file was downloaded using the [Requests](http://docs.python-requests.org/en/master/) library.\n",
    "3. scraped Twitter data: Twitter API  \n",
    "Finally using the [Tweepy API](http://tweepy.readthedocs.io/en/v3.5.0/), we queried tweets matching the `tweet_id` column from the provided csv file. Transmitted in JSON format, the data was dumped to a text file to create a local copy of all the tweets to continue with the subsequent steps. Reading the data into a Pandas DataFrame required parsing and keeping only the most relevant fields for later analysis."
   ]
  },
  {
   "cell_type": "markdown",
   "metadata": {},
   "source": [
    "## Assess\n",
    "  \n",
    "### Quality\n",
    "\n",
    "1. There are 183 retweets from searching tweet text starting with 'RT'  \n",
    "2. Erroneous datatypes: convert strings to datetime objects  \n",
    "`timestamp`  \n",
    "`retweeted_status_timestamp`  \n",
    "\n",
    "3. Erroneous datatypes: convert floats to ints  \n",
    "`in_reply_to_status_id`  \n",
    "`in_reply_to_user_id`  \n",
    "`retweeted_status_id`  \n",
    "`retweeted_status_user_id`  \n",
    "\n",
    "4. `doggo`, `floofer`, `pupper`, and `puppo` should be stored as categoricals -> See Tidiness #1  \n",
    "5. `name` column has missing and incorrect values: 'None', 'a', 'the', 'an', 'this'  \n",
    "6. `doggo`, `floofer`, `pupper`, and `puppo` columns have missing values stored as `'None'`\n",
    "7. It appears some ratings numerators and denominators have been extracted incorrectly. I may need to parse the `full_text` column from `tweepy_clean` to identify incorrect values and correct them.  \n",
    "8. There are missing rows from the dataset. Only 2075 when the provided twitter_csv has 2356, 2173 excluding the retweets."
   ]
  },
  {
   "cell_type": "markdown",
   "metadata": {},
   "source": [
    "### Tidiness\n",
    "1. `doggo`, `floofer`, `pupper`, and `puppo` column headers are values, rather than variable names.    \n",
    "2. Including all three prediction columns feels redundant, especially when you consider the lower confidence of 2 and 3. Maybe drop `p2`, `p2_conf`, `p2_dog`, `p3`, `p3_conf` and `p3_dog`?  \n",
    "3. This table can be supplemented into `twitter_clean`. It does not need to be stored separately.  \n",
    "4. This table can be supplemented into `twitter_clean`. It does not need to be stored separately."
   ]
  },
  {
   "cell_type": "markdown",
   "metadata": {},
   "source": [
    "## Clean\n",
    "\n",
    "The cleaning portion of the wrangling effort is the most enjoyable because it stretches my Python skills to, and sometimes beyond, my limit. I often learn new methods and functions to tackle incomplete, invalid, inaccurate, and inconsistent data.  \n",
    "\n",
    "Many columns were parsed into DataFrame with the incorrect dtype and needed to be recast. Even when combining the data files into one all-encompassing source, I had to recast data types to ensure later analysis and visualization would be accurate. \n",
    "\n",
    "There were also missing values stored as actual values. These needed to be identified and assigned the appropriate missing value indicator.\n",
    "\n",
    "Finally, joining the separately cleaned required selecting the appropriate join columns then recasting incorrect dtypes, usually for the second time."
   ]
  },
  {
   "cell_type": "markdown",
   "metadata": {},
   "source": [
    "## Conclusion\n",
    "\n",
    "The final step of the wrangling portion was exporting the master data into an archive, `twitter_archive_master.csv`, for storage. At any point in the future, this archive can be read into a Pandas DataFrame for further analysis and visualization."
   ]
  }
 ],
 "metadata": {
  "kernelspec": {
   "display_name": "Python 3",
   "language": "python",
   "name": "python3"
  },
  "language_info": {
   "codemirror_mode": {
    "name": "ipython",
    "version": 3
   },
   "file_extension": ".py",
   "mimetype": "text/x-python",
   "name": "python",
   "nbconvert_exporter": "python",
   "pygments_lexer": "ipython3",
   "version": "3.6.3"
  },
  "widgets": {
   "application/vnd.jupyter.widget-state+json": {
    "state": {
     "05776b0bf0bd49d19c8caf11e4473cf5": {
      "model_module": "@jupyter-widgets/base",
      "model_module_version": "1.0.0",
      "model_name": "LayoutModel",
      "state": {}
     },
     "05afdccf2e8f4546851e0badaec5b817": {
      "model_module": "@jupyter-widgets/base",
      "model_module_version": "1.0.0",
      "model_name": "LayoutModel",
      "state": {}
     },
     "05c8c313776a490682d0c93b45c0ca0f": {
      "model_module": "@jupyter-widgets/base",
      "model_module_version": "1.0.0",
      "model_name": "LayoutModel",
      "state": {}
     },
     "0848c8dbc5c2464c8926a9075e754952": {
      "model_module": "@jupyter-widgets/controls",
      "model_module_version": "1.0.0",
      "model_name": "CheckboxModel",
      "state": {
       "_model_module_version": "1.0.0",
       "_view_module_version": "1.0.0",
       "description": "3. Clean",
       "disabled": false,
       "layout": "IPY_MODEL_9f4be350eb6e4781bf3c9ebfb9b500d7",
       "style": "IPY_MODEL_24520d6e84624073b5a8fb90e1a9aeca",
       "value": false
      }
     },
     "0ad9ad7d221644f59127af153ab217e0": {
      "model_module": "@jupyter-widgets/controls",
      "model_module_version": "1.0.0",
      "model_name": "CheckboxModel",
      "state": {
       "_model_module_version": "1.0.0",
       "_view_module_version": "1.0.0",
       "description": "2. Assess",
       "disabled": true,
       "layout": "IPY_MODEL_a66942d5ffa34fe9994d569ac1656e68",
       "style": "IPY_MODEL_cc6a3edb53534b469fbbdcc8f5d934a9",
       "value": false
      }
     },
     "0d8c6f2b7dae49468312a3a10a953480": {
      "model_module": "@jupyter-widgets/base",
      "model_module_version": "1.0.0",
      "model_name": "LayoutModel",
      "state": {}
     },
     "0eccee17ace141c68df8e57cfb7ab3a4": {
      "model_module": "@jupyter-widgets/controls",
      "model_module_version": "1.0.0",
      "model_name": "DescriptionStyleModel",
      "state": {
       "_model_module_version": "1.0.0",
       "description_width": ""
      }
     },
     "0f44fe6e66d74f20b1f99d79223b2a01": {
      "model_module": "@jupyter-widgets/base",
      "model_module_version": "1.0.0",
      "model_name": "LayoutModel",
      "state": {}
     },
     "1836c7bd1bd9421b83c557e8210b0d1f": {
      "model_module": "@jupyter-widgets/base",
      "model_module_version": "1.0.0",
      "model_name": "LayoutModel",
      "state": {}
     },
     "19e9979586e041338f6303b028784516": {
      "model_module": "@jupyter-widgets/controls",
      "model_module_version": "1.0.0",
      "model_name": "VBoxModel",
      "state": {
       "_model_module_version": "1.0.0",
       "_view_module_version": "1.0.0",
       "children": [
        "IPY_MODEL_e43847a8f4c841da855efda4a7af8c02",
        "IPY_MODEL_8a82eb2cf239479aa6767a123ac5a903",
        "IPY_MODEL_de32060796e741aa9410c24cde415c46"
       ],
       "layout": "IPY_MODEL_1836c7bd1bd9421b83c557e8210b0d1f"
      }
     },
     "1d40da7ce49c43deb1e49e7edc8dd0de": {
      "model_module": "@jupyter-widgets/base",
      "model_module_version": "1.0.0",
      "model_name": "LayoutModel",
      "state": {}
     },
     "21ccd3cfc4c04c0fbad41912ffc7f60b": {
      "model_module": "@jupyter-widgets/controls",
      "model_module_version": "1.0.0",
      "model_name": "CheckboxModel",
      "state": {
       "_model_module_version": "1.0.0",
       "_view_module_version": "1.0.0",
       "description": "1. Gather",
       "disabled": false,
       "layout": "IPY_MODEL_2e66f5e06ae7493f83fe15040d75128f",
       "style": "IPY_MODEL_79cac409e27a4c4596bc670a4ab21070",
       "value": true
      }
     },
     "24453f2ca92a4775920daeb93cbf3ce3": {
      "model_module": "@jupyter-widgets/controls",
      "model_module_version": "1.0.0",
      "model_name": "DescriptionStyleModel",
      "state": {
       "_model_module_version": "1.0.0",
       "description_width": ""
      }
     },
     "24520d6e84624073b5a8fb90e1a9aeca": {
      "model_module": "@jupyter-widgets/controls",
      "model_module_version": "1.0.0",
      "model_name": "DescriptionStyleModel",
      "state": {
       "_model_module_version": "1.0.0",
       "description_width": ""
      }
     },
     "24ce7dc2ba0e42c895f8f3477a1f72b3": {
      "model_module": "@jupyter-widgets/base",
      "model_module_version": "1.0.0",
      "model_name": "LayoutModel",
      "state": {}
     },
     "2a0787c44b4c4cc98dcfabfe66ecc93d": {
      "model_module": "@jupyter-widgets/controls",
      "model_module_version": "1.0.0",
      "model_name": "DescriptionStyleModel",
      "state": {
       "_model_module_version": "1.0.0",
       "description_width": ""
      }
     },
     "2a09269dc4524f638c275c982d66de17": {
      "model_module": "@jupyter-widgets/controls",
      "model_module_version": "1.0.0",
      "model_name": "DescriptionStyleModel",
      "state": {
       "_model_module_version": "1.0.0",
       "description_width": ""
      }
     },
     "2e66f5e06ae7493f83fe15040d75128f": {
      "model_module": "@jupyter-widgets/base",
      "model_module_version": "1.0.0",
      "model_name": "LayoutModel",
      "state": {}
     },
     "346345da2c1b422abce611ada0859b9d": {
      "model_module": "@jupyter-widgets/base",
      "model_module_version": "1.0.0",
      "model_name": "LayoutModel",
      "state": {}
     },
     "35021b12e2c043d883a27b9e45df3e96": {
      "model_module": "@jupyter-widgets/controls",
      "model_module_version": "1.0.0",
      "model_name": "VBoxModel",
      "state": {
       "_model_module_version": "1.0.0",
       "_view_module_version": "1.0.0",
       "children": [
        "IPY_MODEL_21ccd3cfc4c04c0fbad41912ffc7f60b",
        "IPY_MODEL_b1d80faca940432aadb8b7083e597150",
        "IPY_MODEL_0848c8dbc5c2464c8926a9075e754952"
       ],
       "layout": "IPY_MODEL_4f085886859748499fda157ac6f22828"
      }
     },
     "35bf5f7f19564d11ac3be95e501897f8": {
      "model_module": "@jupyter-widgets/base",
      "model_module_version": "1.0.0",
      "model_name": "LayoutModel",
      "state": {}
     },
     "3898233968d64b1db559dc96f4768751": {
      "model_module": "@jupyter-widgets/controls",
      "model_module_version": "1.0.0",
      "model_name": "DescriptionStyleModel",
      "state": {
       "_model_module_version": "1.0.0",
       "description_width": ""
      }
     },
     "389e8ba7593449ce80d0b26813e00971": {
      "model_module": "@jupyter-widgets/controls",
      "model_module_version": "1.0.0",
      "model_name": "CheckboxModel",
      "state": {
       "_model_module_version": "1.0.0",
       "_view_module_version": "1.0.0",
       "description": "<strong>2. Assess</strong>",
       "disabled": true,
       "layout": "IPY_MODEL_0f44fe6e66d74f20b1f99d79223b2a01",
       "style": "IPY_MODEL_40bb9b237a334897aae7d80c3fea02c1",
       "value": false
      }
     },
     "39a0439be04c40bfbae43a763d0cda2d": {
      "model_module": "@jupyter-widgets/controls",
      "model_module_version": "1.0.0",
      "model_name": "CheckboxModel",
      "state": {
       "_model_module_version": "1.0.0",
       "_view_module_version": "1.0.0",
       "description": "<strong>2. Assess</strong>",
       "disabled": true,
       "layout": "IPY_MODEL_4f7f994a5606443f9c11216caaa936b0",
       "style": "IPY_MODEL_6f3375e2ea7b4d34ae6fd34d632cfa27",
       "value": true
      }
     },
     "3a5b5778c1894be4b3cb034d61efe705": {
      "model_module": "@jupyter-widgets/controls",
      "model_module_version": "1.0.0",
      "model_name": "CheckboxModel",
      "state": {
       "_model_module_version": "1.0.0",
       "_view_module_version": "1.0.0",
       "description": "2. Assess",
       "disabled": false,
       "layout": "IPY_MODEL_35bf5f7f19564d11ac3be95e501897f8",
       "style": "IPY_MODEL_c40ae4d08b4247cd98378dd888c34de2",
       "value": false
      }
     },
     "40bb9b237a334897aae7d80c3fea02c1": {
      "model_module": "@jupyter-widgets/controls",
      "model_module_version": "1.0.0",
      "model_name": "DescriptionStyleModel",
      "state": {
       "_model_module_version": "1.0.0",
       "description_width": ""
      }
     },
     "40edb1d84e8d4c60bdb727d6657ad0b1": {
      "model_module": "@jupyter-widgets/controls",
      "model_module_version": "1.0.0",
      "model_name": "DescriptionStyleModel",
      "state": {
       "_model_module_version": "1.0.0",
       "description_width": ""
      }
     },
     "41e09da86ef64fff9fed22a35d9dfa73": {
      "model_module": "@jupyter-widgets/controls",
      "model_module_version": "1.0.0",
      "model_name": "CheckboxModel",
      "state": {
       "_model_module_version": "1.0.0",
       "_view_module_version": "1.0.0",
       "description": "2. Assess",
       "disabled": true,
       "layout": "IPY_MODEL_664f3f608f2949be999def0390cf7d5d",
       "style": "IPY_MODEL_5b5e61d0a8324538bddbcdecd8ef45ed",
       "value": false
      }
     },
     "4251acba1eed4e20a8f3a37553d5d935": {
      "model_module": "@jupyter-widgets/controls",
      "model_module_version": "1.0.0",
      "model_name": "VBoxModel",
      "state": {
       "_model_module_version": "1.0.0",
       "_view_module_version": "1.0.0",
       "children": [
        "IPY_MODEL_48150eb8eac344ef90c22fb743745ed8",
        "IPY_MODEL_41e09da86ef64fff9fed22a35d9dfa73",
        "IPY_MODEL_ac6bdee2a1f643c883b2adad43b2e313"
       ],
       "layout": "IPY_MODEL_73327f13aa2b47588691c9bbacdaf264"
      }
     },
     "431c0803f48d45609450d8a31acb3638": {
      "model_module": "@jupyter-widgets/controls",
      "model_module_version": "1.0.0",
      "model_name": "VBoxModel",
      "state": {
       "_model_module_version": "1.0.0",
       "_view_module_version": "1.0.0",
       "children": [
        "IPY_MODEL_dec0bf947c534e76a10be1450fe1f64a",
        "IPY_MODEL_3a5b5778c1894be4b3cb034d61efe705",
        "IPY_MODEL_c813726d7a5741af95de9e4ae2b2d513"
       ],
       "layout": "IPY_MODEL_f967f150a2ee4c44826b1b0c1697437e"
      }
     },
     "43205a9639c141c581f33975e9daa13b": {
      "model_module": "@jupyter-widgets/controls",
      "model_module_version": "1.0.0",
      "model_name": "DescriptionStyleModel",
      "state": {
       "_model_module_version": "1.0.0",
       "description_width": ""
      }
     },
     "4539f3dc4ad6482c885381de4135b445": {
      "model_module": "@jupyter-widgets/controls",
      "model_module_version": "1.0.0",
      "model_name": "CheckboxModel",
      "state": {
       "_model_module_version": "1.0.0",
       "_view_module_version": "1.0.0",
       "description": "3. Clean",
       "disabled": false,
       "layout": "IPY_MODEL_9698096ae01e4bdebf6269b82e95d95f",
       "style": "IPY_MODEL_54ccc04d30bb4d54a38a06df813688fa",
       "value": false
      }
     },
     "48150eb8eac344ef90c22fb743745ed8": {
      "model_module": "@jupyter-widgets/controls",
      "model_module_version": "1.0.0",
      "model_name": "CheckboxModel",
      "state": {
       "_model_module_version": "1.0.0",
       "_view_module_version": "1.0.0",
       "description": "1. Gather",
       "disabled": true,
       "layout": "IPY_MODEL_62da6786b45846c88fb490f01aa86707",
       "style": "IPY_MODEL_580dceb04dc04d838a875fbe7d9d4277",
       "value": false
      }
     },
     "485d7cda585c4548b83c6deb84564c64": {
      "model_module": "@jupyter-widgets/controls",
      "model_module_version": "1.0.0",
      "model_name": "VBoxModel",
      "state": {
       "_model_module_version": "1.0.0",
       "_view_module_version": "1.0.0",
       "children": [
        "IPY_MODEL_4dbb348ebaf64d44ac3910ca6f2f78c1",
        "IPY_MODEL_60dbf7c43c244a1ca837d92fc2de38fc",
        "IPY_MODEL_4539f3dc4ad6482c885381de4135b445"
       ],
       "layout": "IPY_MODEL_fb9d09ab2e60480c830cd59abcf73502"
      }
     },
     "4ae9a15f776c4e738cd868426f4ba208": {
      "model_module": "@jupyter-widgets/controls",
      "model_module_version": "1.0.0",
      "model_name": "DescriptionStyleModel",
      "state": {
       "_model_module_version": "1.0.0",
       "description_width": ""
      }
     },
     "4d76e032cb98434585465e8a1783ceb2": {
      "model_module": "@jupyter-widgets/controls",
      "model_module_version": "1.0.0",
      "model_name": "CheckboxModel",
      "state": {
       "_model_module_version": "1.0.0",
       "_view_module_version": "1.0.0",
       "description": "<strong>3. Clean</strong>",
       "disabled": true,
       "layout": "IPY_MODEL_8900b5c3dd694ab08eab3bcae4038b03",
       "style": "IPY_MODEL_3898233968d64b1db559dc96f4768751",
       "value": true
      }
     },
     "4dbb348ebaf64d44ac3910ca6f2f78c1": {
      "model_module": "@jupyter-widgets/controls",
      "model_module_version": "1.0.0",
      "model_name": "CheckboxModel",
      "state": {
       "_model_module_version": "1.0.0",
       "_view_module_version": "1.0.0",
       "description": "1. Gather",
       "disabled": false,
       "layout": "IPY_MODEL_5a3d7c8ed4dc4d7790f3f82eb8f24c46",
       "style": "IPY_MODEL_9b7cf585d7194326975816dd81f7f0a6",
       "value": false
      }
     },
     "4f085886859748499fda157ac6f22828": {
      "model_module": "@jupyter-widgets/base",
      "model_module_version": "1.0.0",
      "model_name": "LayoutModel",
      "state": {}
     },
     "4f7f994a5606443f9c11216caaa936b0": {
      "model_module": "@jupyter-widgets/base",
      "model_module_version": "1.0.0",
      "model_name": "LayoutModel",
      "state": {}
     },
     "5272aa26ab394a9aa059742cd8fdc76d": {
      "model_module": "@jupyter-widgets/base",
      "model_module_version": "1.0.0",
      "model_name": "LayoutModel",
      "state": {}
     },
     "549d95cf3b1c4dc9a4162658d1ef2c57": {
      "model_module": "@jupyter-widgets/base",
      "model_module_version": "1.0.0",
      "model_name": "LayoutModel",
      "state": {}
     },
     "54ccc04d30bb4d54a38a06df813688fa": {
      "model_module": "@jupyter-widgets/controls",
      "model_module_version": "1.0.0",
      "model_name": "DescriptionStyleModel",
      "state": {
       "_model_module_version": "1.0.0",
       "description_width": ""
      }
     },
     "56cb6ce5ea0a41f89ddce3da6d3d160f": {
      "model_module": "@jupyter-widgets/base",
      "model_module_version": "1.0.0",
      "model_name": "LayoutModel",
      "state": {}
     },
     "580dceb04dc04d838a875fbe7d9d4277": {
      "model_module": "@jupyter-widgets/controls",
      "model_module_version": "1.0.0",
      "model_name": "DescriptionStyleModel",
      "state": {
       "_model_module_version": "1.0.0",
       "description_width": ""
      }
     },
     "5a3d7c8ed4dc4d7790f3f82eb8f24c46": {
      "model_module": "@jupyter-widgets/base",
      "model_module_version": "1.0.0",
      "model_name": "LayoutModel",
      "state": {}
     },
     "5a470123c85d4149b5e7d9eb78e65e63": {
      "model_module": "@jupyter-widgets/controls",
      "model_module_version": "1.0.0",
      "model_name": "DescriptionStyleModel",
      "state": {
       "_model_module_version": "1.0.0",
       "description_width": ""
      }
     },
     "5b5e61d0a8324538bddbcdecd8ef45ed": {
      "model_module": "@jupyter-widgets/controls",
      "model_module_version": "1.0.0",
      "model_name": "DescriptionStyleModel",
      "state": {
       "_model_module_version": "1.0.0",
       "description_width": ""
      }
     },
     "5e7b1903cbcf4d8783516c6a9f466b15": {
      "model_module": "@jupyter-widgets/base",
      "model_module_version": "1.0.0",
      "model_name": "LayoutModel",
      "state": {}
     },
     "60dbf7c43c244a1ca837d92fc2de38fc": {
      "model_module": "@jupyter-widgets/controls",
      "model_module_version": "1.0.0",
      "model_name": "CheckboxModel",
      "state": {
       "_model_module_version": "1.0.0",
       "_view_module_version": "1.0.0",
       "description": "2. Assess",
       "disabled": false,
       "layout": "IPY_MODEL_05c8c313776a490682d0c93b45c0ca0f",
       "style": "IPY_MODEL_0eccee17ace141c68df8e57cfb7ab3a4",
       "value": false
      }
     },
     "62539c9029ea4e6caed1b790dd5165b8": {
      "model_module": "@jupyter-widgets/controls",
      "model_module_version": "1.0.0",
      "model_name": "DescriptionStyleModel",
      "state": {
       "_model_module_version": "1.0.0",
       "description_width": ""
      }
     },
     "62da6786b45846c88fb490f01aa86707": {
      "model_module": "@jupyter-widgets/base",
      "model_module_version": "1.0.0",
      "model_name": "LayoutModel",
      "state": {}
     },
     "6414ab6509074c41b5e0751f45b2b04d": {
      "model_module": "@jupyter-widgets/controls",
      "model_module_version": "1.0.0",
      "model_name": "VBoxModel",
      "state": {
       "_model_module_version": "1.0.0",
       "_view_module_version": "1.0.0",
       "children": [
        "IPY_MODEL_e04fe8b2a21c4f24934a6b972f29f045",
        "IPY_MODEL_39a0439be04c40bfbae43a763d0cda2d",
        "IPY_MODEL_4d76e032cb98434585465e8a1783ceb2"
       ],
       "layout": "IPY_MODEL_a8ee4e8a6624459982088f67dc6d50cb"
      }
     },
     "664f3f608f2949be999def0390cf7d5d": {
      "model_module": "@jupyter-widgets/base",
      "model_module_version": "1.0.0",
      "model_name": "LayoutModel",
      "state": {}
     },
     "6b745a881f194261a7ec7fa1283b598f": {
      "model_module": "@jupyter-widgets/controls",
      "model_module_version": "1.0.0",
      "model_name": "DescriptionStyleModel",
      "state": {
       "_model_module_version": "1.0.0",
       "description_width": ""
      }
     },
     "6f3375e2ea7b4d34ae6fd34d632cfa27": {
      "model_module": "@jupyter-widgets/controls",
      "model_module_version": "1.0.0",
      "model_name": "DescriptionStyleModel",
      "state": {
       "_model_module_version": "1.0.0",
       "description_width": ""
      }
     },
     "70828c4fbb7948e08213de1b55e84b74": {
      "model_module": "@jupyter-widgets/controls",
      "model_module_version": "1.0.0",
      "model_name": "DescriptionStyleModel",
      "state": {
       "_model_module_version": "1.0.0",
       "description_width": ""
      }
     },
     "70e2fee2182d4ec583c8d3d39d651b8f": {
      "model_module": "@jupyter-widgets/controls",
      "model_module_version": "1.0.0",
      "model_name": "DescriptionStyleModel",
      "state": {
       "_model_module_version": "1.0.0",
       "description_width": ""
      }
     },
     "73327f13aa2b47588691c9bbacdaf264": {
      "model_module": "@jupyter-widgets/base",
      "model_module_version": "1.0.0",
      "model_name": "LayoutModel",
      "state": {}
     },
     "79cac409e27a4c4596bc670a4ab21070": {
      "model_module": "@jupyter-widgets/controls",
      "model_module_version": "1.0.0",
      "model_name": "DescriptionStyleModel",
      "state": {
       "_model_module_version": "1.0.0",
       "description_width": ""
      }
     },
     "86064e09c3864f7185d8e8edee4c9275": {
      "model_module": "@jupyter-widgets/controls",
      "model_module_version": "1.0.0",
      "model_name": "DescriptionStyleModel",
      "state": {
       "_model_module_version": "1.0.0",
       "description_width": ""
      }
     },
     "8900b5c3dd694ab08eab3bcae4038b03": {
      "model_module": "@jupyter-widgets/base",
      "model_module_version": "1.0.0",
      "model_name": "LayoutModel",
      "state": {}
     },
     "89e16439e3b74381888b4e063273e627": {
      "model_module": "@jupyter-widgets/controls",
      "model_module_version": "1.0.0",
      "model_name": "CheckboxModel",
      "state": {
       "_model_module_version": "1.0.0",
       "_view_module_version": "1.0.0",
       "description": "<strong>2. Assess</strong>",
       "disabled": true,
       "layout": "IPY_MODEL_56cb6ce5ea0a41f89ddce3da6d3d160f",
       "style": "IPY_MODEL_d6aa67eb8df34d03928489ab8f9be0b7",
       "value": false
      }
     },
     "8a1356e7495a41b68406a77669b7dbce": {
      "model_module": "@jupyter-widgets/controls",
      "model_module_version": "1.0.0",
      "model_name": "DescriptionStyleModel",
      "state": {
       "_model_module_version": "1.0.0",
       "description_width": ""
      }
     },
     "8a82eb2cf239479aa6767a123ac5a903": {
      "model_module": "@jupyter-widgets/controls",
      "model_module_version": "1.0.0",
      "model_name": "CheckboxModel",
      "state": {
       "_model_module_version": "1.0.0",
       "_view_module_version": "1.0.0",
       "description": "<strong>2. Assess</strong>",
       "disabled": true,
       "layout": "IPY_MODEL_0d8c6f2b7dae49468312a3a10a953480",
       "style": "IPY_MODEL_24453f2ca92a4775920daeb93cbf3ce3",
       "value": true
      }
     },
     "8cf10b9785e345659d0993764206fa45": {
      "model_module": "@jupyter-widgets/controls",
      "model_module_version": "1.0.0",
      "model_name": "DescriptionStyleModel",
      "state": {
       "_model_module_version": "1.0.0",
       "description_width": ""
      }
     },
     "8d8bc76d9ca044208a64051c48f0e8fb": {
      "model_module": "@jupyter-widgets/controls",
      "model_module_version": "1.0.0",
      "model_name": "VBoxModel",
      "state": {
       "_model_module_version": "1.0.0",
       "_view_module_version": "1.0.0",
       "children": [
        "IPY_MODEL_adf2f68062024faca248f079a3c28e4b",
        "IPY_MODEL_389e8ba7593449ce80d0b26813e00971",
        "IPY_MODEL_eee36898d5af46dd9569cebc9e591aef"
       ],
       "layout": "IPY_MODEL_1d40da7ce49c43deb1e49e7edc8dd0de"
      }
     },
     "91f11651fcf648ddaf1f149764c42246": {
      "model_module": "@jupyter-widgets/controls",
      "model_module_version": "1.0.0",
      "model_name": "CheckboxModel",
      "state": {
       "_model_module_version": "1.0.0",
       "_view_module_version": "1.0.0",
       "description": "<strong>3. Clean</strong>",
       "disabled": true,
       "layout": "IPY_MODEL_fcd11eefb5ec4aeb93494ec14ecc1b23",
       "style": "IPY_MODEL_86064e09c3864f7185d8e8edee4c9275",
       "value": false
      }
     },
     "94892f44870f46d5a961c76691ef8b90": {
      "model_module": "@jupyter-widgets/controls",
      "model_module_version": "1.0.0",
      "model_name": "DescriptionStyleModel",
      "state": {
       "_model_module_version": "1.0.0",
       "description_width": ""
      }
     },
     "9698096ae01e4bdebf6269b82e95d95f": {
      "model_module": "@jupyter-widgets/base",
      "model_module_version": "1.0.0",
      "model_name": "LayoutModel",
      "state": {}
     },
     "999182a7767e41c897966b940e95d45a": {
      "model_module": "@jupyter-widgets/controls",
      "model_module_version": "1.0.0",
      "model_name": "VBoxModel",
      "state": {
       "_model_module_version": "1.0.0",
       "_view_module_version": "1.0.0",
       "children": [
        "IPY_MODEL_a779de3477c34c6cbe8483f2f4c6ef43",
        "IPY_MODEL_d7455667ce2a4ca092c7ebb1db3d3e96",
        "IPY_MODEL_ac5da6a23c214a07bf5af1231df9c27a"
       ],
       "layout": "IPY_MODEL_fdbb30d7ba8047bcbc1a001c99ea7847"
      }
     },
     "9a71676862984d39806d048c8f7d0229": {
      "model_module": "@jupyter-widgets/base",
      "model_module_version": "1.0.0",
      "model_name": "LayoutModel",
      "state": {}
     },
     "9b7cf585d7194326975816dd81f7f0a6": {
      "model_module": "@jupyter-widgets/controls",
      "model_module_version": "1.0.0",
      "model_name": "DescriptionStyleModel",
      "state": {
       "_model_module_version": "1.0.0",
       "description_width": ""
      }
     },
     "9ba8d04e113441c0b7dc58c19263462b": {
      "model_module": "@jupyter-widgets/controls",
      "model_module_version": "1.0.0",
      "model_name": "VBoxModel",
      "state": {
       "_model_module_version": "1.0.0",
       "_view_module_version": "1.0.0",
       "children": [
        "IPY_MODEL_c3ad5f5381fe4e1d801c50f87b849a4b",
        "IPY_MODEL_89e16439e3b74381888b4e063273e627",
        "IPY_MODEL_91f11651fcf648ddaf1f149764c42246"
       ],
       "layout": "IPY_MODEL_d7121aa404fa4f4f8c3553399ac48fdc"
      }
     },
     "9e96a969822b4c98a3f8faab8c185133": {
      "model_module": "@jupyter-widgets/base",
      "model_module_version": "1.0.0",
      "model_name": "LayoutModel",
      "state": {}
     },
     "9f4be350eb6e4781bf3c9ebfb9b500d7": {
      "model_module": "@jupyter-widgets/base",
      "model_module_version": "1.0.0",
      "model_name": "LayoutModel",
      "state": {}
     },
     "9f90c59bbe054100b3332d180c9e3981": {
      "model_module": "@jupyter-widgets/controls",
      "model_module_version": "1.0.0",
      "model_name": "CheckboxModel",
      "state": {
       "_model_module_version": "1.0.0",
       "_view_module_version": "1.0.0",
       "description": "3. Clean",
       "disabled": true,
       "layout": "IPY_MODEL_bc951e6ac3b24f8db2b627b771d0e64f",
       "style": "IPY_MODEL_43205a9639c141c581f33975e9daa13b",
       "value": false
      }
     },
     "a52f566521d24d04af844c6ff9d4a164": {
      "model_module": "@jupyter-widgets/base",
      "model_module_version": "1.0.0",
      "model_name": "LayoutModel",
      "state": {}
     },
     "a66942d5ffa34fe9994d569ac1656e68": {
      "model_module": "@jupyter-widgets/base",
      "model_module_version": "1.0.0",
      "model_name": "LayoutModel",
      "state": {}
     },
     "a779de3477c34c6cbe8483f2f4c6ef43": {
      "model_module": "@jupyter-widgets/controls",
      "model_module_version": "1.0.0",
      "model_name": "CheckboxModel",
      "state": {
       "_model_module_version": "1.0.0",
       "_view_module_version": "1.0.0",
       "description": "1. Gather",
       "disabled": false,
       "layout": "IPY_MODEL_a52f566521d24d04af844c6ff9d4a164",
       "style": "IPY_MODEL_70e2fee2182d4ec583c8d3d39d651b8f",
       "value": true
      }
     },
     "a8ee4e8a6624459982088f67dc6d50cb": {
      "model_module": "@jupyter-widgets/base",
      "model_module_version": "1.0.0",
      "model_name": "LayoutModel",
      "state": {}
     },
     "ab896c46309845dbb8d816f5df8759a2": {
      "model_module": "@jupyter-widgets/controls",
      "model_module_version": "1.0.0",
      "model_name": "DescriptionStyleModel",
      "state": {
       "_model_module_version": "1.0.0",
       "description_width": ""
      }
     },
     "ac5da6a23c214a07bf5af1231df9c27a": {
      "model_module": "@jupyter-widgets/controls",
      "model_module_version": "1.0.0",
      "model_name": "CheckboxModel",
      "state": {
       "_model_module_version": "1.0.0",
       "_view_module_version": "1.0.0",
       "description": "3. Clean",
       "disabled": false,
       "layout": "IPY_MODEL_9a71676862984d39806d048c8f7d0229",
       "style": "IPY_MODEL_2a0787c44b4c4cc98dcfabfe66ecc93d",
       "value": true
      }
     },
     "ac6bdee2a1f643c883b2adad43b2e313": {
      "model_module": "@jupyter-widgets/controls",
      "model_module_version": "1.0.0",
      "model_name": "CheckboxModel",
      "state": {
       "_model_module_version": "1.0.0",
       "_view_module_version": "1.0.0",
       "description": "3. Clean",
       "disabled": true,
       "layout": "IPY_MODEL_05afdccf2e8f4546851e0badaec5b817",
       "style": "IPY_MODEL_f44672983a44462390f51bdd510cd1d8",
       "value": false
      }
     },
     "adf2f68062024faca248f079a3c28e4b": {
      "model_module": "@jupyter-widgets/controls",
      "model_module_version": "1.0.0",
      "model_name": "CheckboxModel",
      "state": {
       "_model_module_version": "1.0.0",
       "_view_module_version": "1.0.0",
       "description": "<strong>1. Gather</strong>",
       "disabled": true,
       "layout": "IPY_MODEL_c54d4e1c2bb2427892a4c14a70de864f",
       "style": "IPY_MODEL_ab896c46309845dbb8d816f5df8759a2",
       "value": true
      }
     },
     "af6ae434133a4764b13593a6852643f5": {
      "model_module": "@jupyter-widgets/base",
      "model_module_version": "1.0.0",
      "model_name": "LayoutModel",
      "state": {}
     },
     "b1630c3b72d9423b82bc0e6ba9311fda": {
      "model_module": "@jupyter-widgets/base",
      "model_module_version": "1.0.0",
      "model_name": "LayoutModel",
      "state": {}
     },
     "b1d80faca940432aadb8b7083e597150": {
      "model_module": "@jupyter-widgets/controls",
      "model_module_version": "1.0.0",
      "model_name": "CheckboxModel",
      "state": {
       "_model_module_version": "1.0.0",
       "_view_module_version": "1.0.0",
       "description": "2. Assess",
       "disabled": false,
       "layout": "IPY_MODEL_24ce7dc2ba0e42c895f8f3477a1f72b3",
       "style": "IPY_MODEL_2a09269dc4524f638c275c982d66de17",
       "value": true
      }
     },
     "bc951e6ac3b24f8db2b627b771d0e64f": {
      "model_module": "@jupyter-widgets/base",
      "model_module_version": "1.0.0",
      "model_name": "LayoutModel",
      "state": {}
     },
     "c3ad5f5381fe4e1d801c50f87b849a4b": {
      "model_module": "@jupyter-widgets/controls",
      "model_module_version": "1.0.0",
      "model_name": "CheckboxModel",
      "state": {
       "_model_module_version": "1.0.0",
       "_view_module_version": "1.0.0",
       "description": "<strong>1. Gather</strong>",
       "disabled": true,
       "layout": "IPY_MODEL_eb7e1a1e3a1242b89f6f529898c3d508",
       "style": "IPY_MODEL_94892f44870f46d5a961c76691ef8b90",
       "value": false
      }
     },
     "c40ae4d08b4247cd98378dd888c34de2": {
      "model_module": "@jupyter-widgets/controls",
      "model_module_version": "1.0.0",
      "model_name": "DescriptionStyleModel",
      "state": {
       "_model_module_version": "1.0.0",
       "description_width": ""
      }
     },
     "c4cfbbd8abec4ddea5e751bb8b43ae6b": {
      "model_module": "@jupyter-widgets/controls",
      "model_module_version": "1.0.0",
      "model_name": "VBoxModel",
      "state": {
       "_model_module_version": "1.0.0",
       "_view_module_version": "1.0.0",
       "children": [
        "IPY_MODEL_e1411df15c7f4e87b913d9518797b02f",
        "IPY_MODEL_0ad9ad7d221644f59127af153ab217e0",
        "IPY_MODEL_9f90c59bbe054100b3332d180c9e3981"
       ],
       "layout": "IPY_MODEL_549d95cf3b1c4dc9a4162658d1ef2c57"
      }
     },
     "c54d4e1c2bb2427892a4c14a70de864f": {
      "model_module": "@jupyter-widgets/base",
      "model_module_version": "1.0.0",
      "model_name": "LayoutModel",
      "state": {}
     },
     "c813726d7a5741af95de9e4ae2b2d513": {
      "model_module": "@jupyter-widgets/controls",
      "model_module_version": "1.0.0",
      "model_name": "CheckboxModel",
      "state": {
       "_model_module_version": "1.0.0",
       "_view_module_version": "1.0.0",
       "description": "3. Clean",
       "disabled": false,
       "layout": "IPY_MODEL_5272aa26ab394a9aa059742cd8fdc76d",
       "style": "IPY_MODEL_6b745a881f194261a7ec7fa1283b598f",
       "value": false
      }
     },
     "cc6a3edb53534b469fbbdcc8f5d934a9": {
      "model_module": "@jupyter-widgets/controls",
      "model_module_version": "1.0.0",
      "model_name": "DescriptionStyleModel",
      "state": {
       "_model_module_version": "1.0.0",
       "description_width": ""
      }
     },
     "cd291c7e07094d99b714a2c7e6c27768": {
      "model_module": "@jupyter-widgets/base",
      "model_module_version": "1.0.0",
      "model_name": "LayoutModel",
      "state": {}
     },
     "d6aa67eb8df34d03928489ab8f9be0b7": {
      "model_module": "@jupyter-widgets/controls",
      "model_module_version": "1.0.0",
      "model_name": "DescriptionStyleModel",
      "state": {
       "_model_module_version": "1.0.0",
       "description_width": ""
      }
     },
     "d7121aa404fa4f4f8c3553399ac48fdc": {
      "model_module": "@jupyter-widgets/base",
      "model_module_version": "1.0.0",
      "model_name": "LayoutModel",
      "state": {}
     },
     "d7455667ce2a4ca092c7ebb1db3d3e96": {
      "model_module": "@jupyter-widgets/controls",
      "model_module_version": "1.0.0",
      "model_name": "CheckboxModel",
      "state": {
       "_model_module_version": "1.0.0",
       "_view_module_version": "1.0.0",
       "description": "2. Assess",
       "disabled": false,
       "layout": "IPY_MODEL_5e7b1903cbcf4d8783516c6a9f466b15",
       "style": "IPY_MODEL_40edb1d84e8d4c60bdb727d6657ad0b1",
       "value": true
      }
     },
     "de32060796e741aa9410c24cde415c46": {
      "model_module": "@jupyter-widgets/controls",
      "model_module_version": "1.0.0",
      "model_name": "CheckboxModel",
      "state": {
       "_model_module_version": "1.0.0",
       "_view_module_version": "1.0.0",
       "description": "<strong>3. Clean</strong>",
       "disabled": true,
       "layout": "IPY_MODEL_b1630c3b72d9423b82bc0e6ba9311fda",
       "style": "IPY_MODEL_4ae9a15f776c4e738cd868426f4ba208",
       "value": false
      }
     },
     "dec0bf947c534e76a10be1450fe1f64a": {
      "model_module": "@jupyter-widgets/controls",
      "model_module_version": "1.0.0",
      "model_name": "CheckboxModel",
      "state": {
       "_model_module_version": "1.0.0",
       "_view_module_version": "1.0.0",
       "description": "1. Gather",
       "disabled": false,
       "layout": "IPY_MODEL_cd291c7e07094d99b714a2c7e6c27768",
       "style": "IPY_MODEL_70828c4fbb7948e08213de1b55e84b74",
       "value": true
      }
     },
     "e04fe8b2a21c4f24934a6b972f29f045": {
      "model_module": "@jupyter-widgets/controls",
      "model_module_version": "1.0.0",
      "model_name": "CheckboxModel",
      "state": {
       "_model_module_version": "1.0.0",
       "_view_module_version": "1.0.0",
       "description": "<strong>1. Gather</strong>",
       "disabled": true,
       "layout": "IPY_MODEL_9e96a969822b4c98a3f8faab8c185133",
       "style": "IPY_MODEL_5a470123c85d4149b5e7d9eb78e65e63",
       "value": true
      }
     },
     "e1411df15c7f4e87b913d9518797b02f": {
      "model_module": "@jupyter-widgets/controls",
      "model_module_version": "1.0.0",
      "model_name": "CheckboxModel",
      "state": {
       "_model_module_version": "1.0.0",
       "_view_module_version": "1.0.0",
       "description": "<strong>1. Gather</strong>",
       "disabled": true,
       "layout": "IPY_MODEL_05776b0bf0bd49d19c8caf11e4473cf5",
       "style": "IPY_MODEL_8cf10b9785e345659d0993764206fa45",
       "value": false
      }
     },
     "e43847a8f4c841da855efda4a7af8c02": {
      "model_module": "@jupyter-widgets/controls",
      "model_module_version": "1.0.0",
      "model_name": "CheckboxModel",
      "state": {
       "_model_module_version": "1.0.0",
       "_view_module_version": "1.0.0",
       "description": "<strong>1. Gather</strong>",
       "disabled": true,
       "layout": "IPY_MODEL_af6ae434133a4764b13593a6852643f5",
       "style": "IPY_MODEL_8a1356e7495a41b68406a77669b7dbce",
       "value": true
      }
     },
     "eb7e1a1e3a1242b89f6f529898c3d508": {
      "model_module": "@jupyter-widgets/base",
      "model_module_version": "1.0.0",
      "model_name": "LayoutModel",
      "state": {}
     },
     "eee36898d5af46dd9569cebc9e591aef": {
      "model_module": "@jupyter-widgets/controls",
      "model_module_version": "1.0.0",
      "model_name": "CheckboxModel",
      "state": {
       "_model_module_version": "1.0.0",
       "_view_module_version": "1.0.0",
       "description": "<strong>3. Clean</strong>",
       "disabled": true,
       "layout": "IPY_MODEL_346345da2c1b422abce611ada0859b9d",
       "style": "IPY_MODEL_62539c9029ea4e6caed1b790dd5165b8",
       "value": false
      }
     },
     "f44672983a44462390f51bdd510cd1d8": {
      "model_module": "@jupyter-widgets/controls",
      "model_module_version": "1.0.0",
      "model_name": "DescriptionStyleModel",
      "state": {
       "_model_module_version": "1.0.0",
       "description_width": ""
      }
     },
     "f967f150a2ee4c44826b1b0c1697437e": {
      "model_module": "@jupyter-widgets/base",
      "model_module_version": "1.0.0",
      "model_name": "LayoutModel",
      "state": {}
     },
     "fb9d09ab2e60480c830cd59abcf73502": {
      "model_module": "@jupyter-widgets/base",
      "model_module_version": "1.0.0",
      "model_name": "LayoutModel",
      "state": {}
     },
     "fcd11eefb5ec4aeb93494ec14ecc1b23": {
      "model_module": "@jupyter-widgets/base",
      "model_module_version": "1.0.0",
      "model_name": "LayoutModel",
      "state": {}
     },
     "fdbb30d7ba8047bcbc1a001c99ea7847": {
      "model_module": "@jupyter-widgets/base",
      "model_module_version": "1.0.0",
      "model_name": "LayoutModel",
      "state": {}
     }
    },
    "version_major": 2,
    "version_minor": 0
   }
  }
 },
 "nbformat": 4,
 "nbformat_minor": 2
}
